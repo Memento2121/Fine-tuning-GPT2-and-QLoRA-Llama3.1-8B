{
 "cells": [
  {
   "cell_type": "code",
   "execution_count": 7,
   "metadata": {},
   "outputs": [
    {
     "name": "stdout",
     "output_type": "stream",
     "text": [
      "File ID: file-Fa4SbX4MKaosj9Mu5RlShIoo\n"
     ]
    }
   ],
   "source": [
    "from dotenv import load_dotenv\n",
    "import os\n",
    "\n",
    "# Load environment variables from the API_key.env file\n",
    "load_dotenv('API_key.env')\n",
    "\n",
    "# Access the API key\n",
    "api_key = os.getenv('OPENAI_API_KEY')\n",
    "\n",
    "# Example usage: Initialize OpenAI client with the API key\n",
    "from openai import OpenAI\n",
    "\n",
    "client = OpenAI(api_key=api_key)\n",
    "\n",
    "base_path = r'C:\\Users\\Colin MININI\\Desktop\\code\\GPT2 FT\\Fine-tuning-GPT2'\n",
    "\n",
    "# Now you can use `client` to fine-tune, create files, etc.\n",
    "response = client.files.create(\n",
    "    file=open(f'{base_path}\\\\output.jsonl', \"rb\"),\n",
    "    purpose=\"fine-tune\"\n",
    ")\n",
    "\n",
    "file_id = response.id\n",
    "print(\"File ID:\", file_id)"
   ]
  },
  {
   "cell_type": "code",
   "execution_count": 9,
   "metadata": {},
   "outputs": [
    {
     "data": {
      "text/plain": [
       "FineTuningJob(id='ftjob-WcUITa8fcx2DmQ9Jike48vvK', created_at=1724073900, error=Error(code=None, message=None, param=None), fine_tuned_model=None, finished_at=None, hyperparameters=Hyperparameters(n_epochs='auto', batch_size='auto', learning_rate_multiplier='auto'), model='gpt-3.5-turbo-0125', object='fine_tuning.job', organization_id='org-QNN7QJbvswwy9GSvcVpWoHrp', result_files=[], seed=1672581296, status='validating_files', trained_tokens=None, training_file='file-Fa4SbX4MKaosj9Mu5RlShIoo', validation_file=None, estimated_finish=None, integrations=[], user_provided_suffix=None)"
      ]
     },
     "execution_count": 9,
     "metadata": {},
     "output_type": "execute_result"
    }
   ],
   "source": [
    "client.fine_tuning.jobs.create(\n",
    "    training_file='file-Fa4SbX4MKaosj9Mu5RlShIoo',  # Use the retrieved file ID here\n",
    "    model=\"gpt-3.5-turbo\"  # Specify the model you want to fine-tune\n",
    ")"
   ]
  },
  {
   "cell_type": "code",
   "execution_count": 11,
   "metadata": {},
   "outputs": [
    {
     "name": "stdout",
     "output_type": "stream",
     "text": [
      "running\n",
      "None\n",
      "Error(code=None, message=None, param=None)\n"
     ]
    }
   ],
   "source": [
    "job_id = 'ftjob-WcUITa8fcx2DmQ9Jike48vvK'  # Your job ID\n",
    "\n",
    "# Corrected way to retrieve the job status\n",
    "response = client.fine_tuning.jobs.retrieve(job_id)\n",
    "print(response.status)  # Prints the current status of the job\n",
    "\n",
    "# Optional: Check other details like fine-tuned model or error messages\n",
    "print(response.fine_tuned_model)  # Prints the fine-tuned model ID once completed\n",
    "print(response.error)  # Prints any error message if something went wrong\n"
   ]
  }
 ],
 "metadata": {
  "kernelspec": {
   "display_name": "Python 3",
   "language": "python",
   "name": "python3"
  },
  "language_info": {
   "codemirror_mode": {
    "name": "ipython",
    "version": 3
   },
   "file_extension": ".py",
   "mimetype": "text/x-python",
   "name": "python",
   "nbconvert_exporter": "python",
   "pygments_lexer": "ipython3",
   "version": "3.12.4"
  }
 },
 "nbformat": 4,
 "nbformat_minor": 2
}
